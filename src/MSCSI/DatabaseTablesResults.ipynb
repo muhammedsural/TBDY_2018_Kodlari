{
 "cells": [
  {
   "cell_type": "markdown",
   "metadata": {},
   "source": [
    "`Tamamlanmış etabs modeli analiz edildikten sonra aşağıdaki işlemler uygulanmalıdır. Analiz edilmediyse analiz sonuçları elde edilemeyecektir. Ama modelle alakalı tablolar elde edilebilir ve editlenebilir.`\n"
   ]
  },
  {
   "cell_type": "markdown",
   "metadata": {},
   "source": [
    "### KULLANILACAK MODULLERİN IMPORT EDİLMESİ"
   ]
  },
  {
   "cell_type": "code",
   "execution_count": null,
   "metadata": {},
   "outputs": [],
   "source": [
    "from Connector import ConnectionEtabs\n",
    "from Model import SapModel\n",
    "from Database import DatabaseTables\n",
    "from LoadCases import LoadCase,CaseDirectHistoryLinear,CaseDirectHistoryNonlinear\n",
    "from LoadPattern import LoadPattern"
   ]
  },
  {
   "cell_type": "markdown",
   "metadata": {},
   "source": [
    "### ETABS PROGRAMINA BAĞLANTI"
   ]
  },
  {
   "cell_type": "code",
   "execution_count": null,
   "metadata": {},
   "outputs": [],
   "source": [
    "# ModelPath=\"C:\\\\test_Etabs\\\\Default.EDB\"\n",
    "ModelPath=\"\" #model dosya yolu verilmeli...\n",
    "MySapModel,myETABSObject  = ConnectionEtabs(ModelPath)\n",
    "etabs                   = SapModel(RefApi=MySapModel)\n",
    "db_Tables               = DatabaseTables(RefApi=MySapModel.DatabaseTables)\n",
    "loadCase                = LoadCase(RefApi=MySapModel.LoadCases)\n",
    "loadPattern             = LoadPattern(RefApi=MySapModel.LoadPatterns)"
   ]
  },
  {
   "cell_type": "markdown",
   "metadata": {},
   "source": [
    "## Database işlemleri "
   ]
  },
  {
   "cell_type": "markdown",
   "metadata": {},
   "source": [
    "### Bütün tablo bilgilerinin elde edilmesi"
   ]
  },
  {
   "cell_type": "code",
   "execution_count": null,
   "metadata": {},
   "outputs": [],
   "source": [
    "AllTables = db_Tables.GetAllTables()\n",
    "AllTables"
   ]
  },
  {
   "cell_type": "markdown",
   "metadata": {},
   "source": [
    "### Aktif tablo bilgilerinin elde edilmesi"
   ]
  },
  {
   "cell_type": "code",
   "execution_count": null,
   "metadata": {},
   "outputs": [],
   "source": [
    "AvailableTables = db_Tables.GetAvailableTables()\n",
    "AvailableTables"
   ]
  },
  {
   "cell_type": "markdown",
   "metadata": {},
   "source": [
    "### Tanımlı Load Case ler seçili hale getirilmesi"
   ]
  },
  {
   "cell_type": "code",
   "execution_count": null,
   "metadata": {},
   "outputs": [],
   "source": [
    "CaseList = loadCase.GetNameList()\n",
    "CaseList"
   ]
  },
  {
   "cell_type": "code",
   "execution_count": null,
   "metadata": {},
   "outputs": [],
   "source": [
    "db_Tables.SetLoadCasesSelectedForDisplay(LoadCaseList=[i for i in CaseList[0]])\n",
    "db_Tables.GetLoadCasesSelectedForDisplay()"
   ]
  },
  {
   "cell_type": "code",
   "execution_count": null,
   "metadata": {},
   "outputs": [],
   "source": [
    "db_Tables.GetLoadCasesSelectedForDisplay()"
   ]
  },
  {
   "cell_type": "markdown",
   "metadata": {},
   "source": [
    "### Modal Analiz Sonuçları"
   ]
  },
  {
   "cell_type": "code",
   "execution_count": null,
   "metadata": {},
   "outputs": [],
   "source": [
    "AvailableTables.tail(50)"
   ]
  },
  {
   "cell_type": "code",
   "execution_count": null,
   "metadata": {},
   "outputs": [],
   "source": [
    "ModalPeriodsAndFrequencies      = db_Tables.GetTableForDisplayArray(TableKey='Modal Periods And Frequencies')\n",
    "ModalDirectionFactors           = db_Tables.GetTableForDisplayArray(TableKey='Modal Direction Factors')\n",
    "ModalLoadParticipationRatios    = db_Tables.GetTableForDisplayArray(TableKey='Modal Load Participation Ratios')\n",
    "ModalParticipatingMassRatios    = db_Tables.GetTableForDisplayArray(TableKey='Modal Participating Mass Ratios')\n",
    "ModalParticipationFactors\t    = db_Tables.GetTableForDisplayArray(TableKey='Modal Participation Factors')\n"
   ]
  },
  {
   "cell_type": "code",
   "execution_count": null,
   "metadata": {},
   "outputs": [],
   "source": [
    "PeriodsFreq = db_Tables.ConvertDataFrame3(Table=ModalPeriodsAndFrequencies)\n",
    "PeriodsFreq"
   ]
  },
  {
   "cell_type": "code",
   "execution_count": null,
   "metadata": {},
   "outputs": [],
   "source": [
    "ModalDirecFac = db_Tables.ConvertDataFrame3(Table=ModalDirectionFactors)\n",
    "ModalDirecFac"
   ]
  },
  {
   "cell_type": "code",
   "execution_count": null,
   "metadata": {},
   "outputs": [],
   "source": [
    "ModalLoadPartRatio = db_Tables.ConvertDataFrame3(Table=ModalLoadParticipationRatios)\n",
    "ModalLoadPartRatio"
   ]
  },
  {
   "cell_type": "code",
   "execution_count": null,
   "metadata": {},
   "outputs": [],
   "source": [
    "ModalPartMassRatio = db_Tables.ConvertDataFrame3(Table=ModalParticipatingMassRatios)\n",
    "ModalPartMassRatio"
   ]
  },
  {
   "cell_type": "code",
   "execution_count": null,
   "metadata": {},
   "outputs": [],
   "source": [
    "ModalPartFac = db_Tables.ConvertDataFrame3(Table=ModalParticipationFactors)\n",
    "ModalPartFac"
   ]
  },
  {
   "cell_type": "markdown",
   "metadata": {},
   "source": [
    "### Kütle ve Rijitlik Merkezleri"
   ]
  },
  {
   "cell_type": "code",
   "execution_count": null,
   "metadata": {},
   "outputs": [],
   "source": [
    "db_Tables.GetAllFieldsInTable(\"Centers Of Mass And Rigidity\")"
   ]
  },
  {
   "cell_type": "code",
   "execution_count": null,
   "metadata": {},
   "outputs": [],
   "source": [
    "CentersOfMassAndRigidity = db_Tables.GetTableForDisplayArray(TableKey='Centers Of Mass And Rigidity',GroupName='ALL')\n",
    "CMRM = db_Tables.ConvertDataFrame3(Table=CentersOfMassAndRigidity)\n",
    "CMRM"
   ]
  },
  {
   "cell_type": "markdown",
   "metadata": {},
   "source": [
    "### Göreli kat öteleme kontrolleri"
   ]
  },
  {
   "cell_type": "code",
   "execution_count": null,
   "metadata": {},
   "outputs": [],
   "source": [
    "db_Tables.GetAllFieldsInTable(\"Story Drifts\")"
   ]
  },
  {
   "cell_type": "code",
   "execution_count": null,
   "metadata": {},
   "outputs": [],
   "source": [
    "StoryDrifts = db_Tables.GetTableForDisplayArray(TableKey='Story Drifts',GroupName='ALL')\n",
    "StoryDrf = db_Tables.ConvertDataFrame3(Table=StoryDrifts) # ,DeletedColumns=['CaseType','StepType','StepNumber']\n",
    "StoryDrf"
   ]
  },
  {
   "cell_type": "markdown",
   "metadata": {},
   "source": [
    "### Mesnet Reaksiyonları "
   ]
  },
  {
   "cell_type": "code",
   "execution_count": null,
   "metadata": {},
   "outputs": [],
   "source": [
    "db_Tables.GetAllFieldsInTable(\"Base Reactions\")"
   ]
  },
  {
   "cell_type": "code",
   "execution_count": null,
   "metadata": {},
   "outputs": [],
   "source": [
    "AvailableTables.head(50)"
   ]
  },
  {
   "cell_type": "code",
   "execution_count": null,
   "metadata": {},
   "outputs": [],
   "source": [
    "base_Reaction = db_Tables.GetTableForDisplayArray(TableKey='Base Reactions',GroupName='ALL')\n",
    "BaseReactions = db_Tables.ConvertDataFrame3(Table=base_Reaction)"
   ]
  },
  {
   "cell_type": "code",
   "execution_count": null,
   "metadata": {},
   "outputs": [],
   "source": [
    "db_Tables.ConvertDataFrame2(Table=base_Reaction)"
   ]
  },
  {
   "cell_type": "markdown",
   "metadata": {},
   "source": [
    "### Fiber Hinge Sonuçları"
   ]
  },
  {
   "cell_type": "code",
   "execution_count": null,
   "metadata": {},
   "outputs": [],
   "source": [
    "CaseList = loadCase.GetNameList()\n",
    "CaseList"
   ]
  },
  {
   "cell_type": "code",
   "execution_count": null,
   "metadata": {},
   "outputs": [],
   "source": [
    "db_Tables.GetAllFieldsInTable(TableKey='Fiber Hinge Fiber States')"
   ]
  },
  {
   "cell_type": "code",
   "execution_count": null,
   "metadata": {},
   "outputs": [],
   "source": [
    "FiberHingeFiberStates = db_Tables.GetTableForDisplayArray(TableKey='Fiber Hinge Fiber States',GroupName='ALL')"
   ]
  },
  {
   "cell_type": "code",
   "execution_count": null,
   "metadata": {},
   "outputs": [],
   "source": [
    "FiberHingeFiberStates[2]"
   ]
  },
  {
   "cell_type": "code",
   "execution_count": null,
   "metadata": {},
   "outputs": [],
   "source": [
    "fiber = db_Tables.ConvertDataFrame3(Table=FiberHingeFiberStates)"
   ]
  },
  {
   "cell_type": "code",
   "execution_count": null,
   "metadata": {},
   "outputs": [],
   "source": [
    "fiber"
   ]
  },
  {
   "cell_type": "code",
   "execution_count": null,
   "metadata": {},
   "outputs": [],
   "source": [
    "fiber['FiberStress'] = fiber['FiberStress'].str.replace(\",\",\".\").astype(float)\n",
    "fiber['FiberStrain'] = fiber['FiberStrain'].str.replace(\",\",\".\").astype(float)"
   ]
  },
  {
   "cell_type": "code",
   "execution_count": null,
   "metadata": {},
   "outputs": [],
   "source": [
    "fiber"
   ]
  },
  {
   "cell_type": "code",
   "execution_count": null,
   "metadata": {},
   "outputs": [],
   "source": [
    "fiber[(fiber['Story'] == 'Story1') & (fiber['UniqueName'] == '4') & (fiber['GenHinge'] == 'C4H1') & (fiber['FiberMat'] == 'Concrete') & (fiber['FiberCoord3'] == '0')]"
   ]
  },
  {
   "cell_type": "code",
   "execution_count": null,
   "metadata": {},
   "outputs": [],
   "source": [
    "stress = fiber[(fiber['Story'] == 'Story1') & (fiber['UniqueName'] == '4') & (fiber['GenHinge'] == 'C4H1') & (fiber['FiberMat'] == 'Concrete') & (fiber['FiberCoord3'] == '0') ]['FiberStress'] \n",
    "strain = fiber[(fiber['Story'] == 'Story1') & (fiber['UniqueName'] == '4') & (fiber['GenHinge'] == 'C4H1') & (fiber['FiberMat'] == 'Concrete') & (fiber['FiberCoord3'] == '0') ]['FiberStrain'] \n",
    "import matplotlib.pyplot as plt\n",
    "plt.plot(strain,stress)\n",
    "plt.axhline(0,color = 'black')\n",
    "plt.axvline(0,color = 'black')\n"
   ]
  },
  {
   "cell_type": "code",
   "execution_count": null,
   "metadata": {},
   "outputs": [],
   "source": []
  }
 ],
 "metadata": {
  "kernelspec": {
   "display_name": "Python 3",
   "language": "python",
   "name": "python3"
  },
  "language_info": {
   "codemirror_mode": {
    "name": "ipython",
    "version": 3
   },
   "file_extension": ".py",
   "mimetype": "text/x-python",
   "name": "python",
   "nbconvert_exporter": "python",
   "pygments_lexer": "ipython3",
   "version": "3.12.0"
  }
 },
 "nbformat": 4,
 "nbformat_minor": 2
}
